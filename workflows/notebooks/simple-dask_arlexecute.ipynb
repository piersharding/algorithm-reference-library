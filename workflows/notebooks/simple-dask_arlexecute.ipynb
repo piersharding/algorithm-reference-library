{
 "cells": [
  {
   "cell_type": "markdown",
   "metadata": {},
   "source": [
    "# Simple demonstration of the use of arlexecute "
   ]
  },
  {
   "cell_type": "code",
   "execution_count": null,
   "metadata": {
    "ExecuteTime": {
     "end_time": "2018-08-16T13:15:06.902239Z",
     "start_time": "2018-08-16T13:15:05.524768Z"
    },
    "scrolled": true
   },
   "outputs": [],
   "source": [
    "import os\n",
    "import sys\n",
    "\n",
    "sys.path.append(os.path.join('..','..'))\n",
    "\n",
    "import numpy\n",
    "\n",
    "import astropy.units as u\n",
    "from astropy.coordinates import SkyCoord\n",
    "\n",
    "from wrappers.arlexecute.image.gather_scatter import image_scatter_facets, image_gather_facets\n",
    "from data_models.polarisation import PolarisationFrame\n",
    "\n",
    "from wrappers.serial.simulation.testing_support import create_test_image\n",
    "\n",
    "from wrappers.arlexecute.execution_support.arlexecute import arlexecute\n",
    "from wrappers.arlexecute.execution_support.dask_init import get_dask_Client\n",
    "\n",
    "import logging\n",
    "\n",
    "logging.basicConfig(filename='simple-dask.log',\n",
    "                            filemode='a',\n",
    "                            format='%(asctime)s,%(msecs)d %(name)s %(levelname)s %(message)s',\n",
    "                            datefmt='%H:%M:%S',\n",
    "                            level=logging.DEBUG)"
   ]
  },
  {
   "cell_type": "markdown",
   "metadata": {},
   "source": [
    "Set up arlexecute to use dask"
   ]
  },
  {
   "cell_type": "code",
   "execution_count": null,
   "metadata": {
    "ExecuteTime": {
     "end_time": "2018-08-16T13:15:09.566673Z",
     "start_time": "2018-08-16T13:15:06.904144Z"
    }
   },
   "outputs": [],
   "source": [
    "arlexecute.set_client(get_dask_Client(), use_dask=True)"
   ]
  },
  {
   "cell_type": "code",
   "execution_count": null,
   "metadata": {
    "ExecuteTime": {
     "end_time": "2018-08-16T13:15:10.591010Z",
     "start_time": "2018-08-16T13:15:09.569820Z"
    },
    "scrolled": true
   },
   "outputs": [],
   "source": [
    "frequency = numpy.array([1e8])\n",
    "phasecentre = SkyCoord(ra=+15.0 * u.deg, dec=-35.0 * u.deg, frame='icrs', equinox='J2000')\n",
    "model_graph = arlexecute.execute(create_test_image)(frequency=frequency, phasecentre=phasecentre, cellsize=0.001,\n",
    "                                         polarisation_frame=PolarisationFrame('stokesI'))\n",
    "model = arlexecute.compute(model_graph, sync=True)"
   ]
  },
  {
   "cell_type": "markdown",
   "metadata": {},
   "source": [
    "Define a simple function to take the square root of an image"
   ]
  },
  {
   "cell_type": "code",
   "execution_count": null,
   "metadata": {
    "ExecuteTime": {
     "end_time": "2018-08-16T13:15:10.603705Z",
     "start_time": "2018-08-16T13:15:10.593532Z"
    },
    "scrolled": false
   },
   "outputs": [],
   "source": [
    "def imagerooter(im, **kwargs):\n",
    "    im.data = numpy.sqrt(numpy.abs(im.data))\n",
    "    return im\n",
    "\n",
    "facets_graph = arlexecute.execute(image_scatter_facets, nout=16)(model_graph, facets=4)\n",
    "root_graph = [arlexecute.execute(imagerooter)(facet) for facet in facets_graph]\n",
    "gathered = arlexecute.execute(image_gather_facets)(root_graph, model_graph, facets=4)"
   ]
  },
  {
   "cell_type": "markdown",
   "metadata": {},
   "source": [
    "Run the graph directly"
   ]
  },
  {
   "cell_type": "code",
   "execution_count": null,
   "metadata": {
    "ExecuteTime": {
     "end_time": "2018-08-16T13:15:11.963793Z",
     "start_time": "2018-08-16T13:15:10.608946Z"
    }
   },
   "outputs": [],
   "source": [
    "result = arlexecute.compute(gathered, sync=True)\n",
    "numpy.testing.assert_array_almost_equal_nulp(result.data**2, numpy.abs(model.data), 7)"
   ]
  },
  {
   "cell_type": "code",
   "execution_count": null,
   "metadata": {
    "ExecuteTime": {
     "end_time": "2018-08-16T13:15:12.070128Z",
     "start_time": "2018-08-16T13:15:11.966648Z"
    }
   },
   "outputs": [],
   "source": [
    "arlexecute.close()"
   ]
  }
 ],
 "metadata": {
  "kernelspec": {
   "display_name": "Python 3",
   "language": "python",
   "name": "python3"
  },
  "language_info": {
   "codemirror_mode": {
    "name": "ipython",
    "version": 3
   },
   "file_extension": ".py",
   "mimetype": "text/x-python",
   "name": "python",
   "nbconvert_exporter": "python",
   "pygments_lexer": "ipython3",
   "version": "3.6.1"
  }
 },
 "nbformat": 4,
 "nbformat_minor": 2
}
